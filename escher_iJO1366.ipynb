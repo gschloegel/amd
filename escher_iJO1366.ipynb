{
 "cells": [
  {
   "cell_type": "code",
   "execution_count": 7,
   "id": "0270c00d",
   "metadata": {},
   "outputs": [],
   "source": [
    "import cobra\n",
    "import escher\n",
    "import pickle\n",
    "import matplotlib"
   ]
  },
  {
   "cell_type": "code",
   "execution_count": 8,
   "id": "15efb581",
   "metadata": {},
   "outputs": [],
   "source": [
    "# simplification = \"none\"\n",
    "simplification = \"FVA\"\n",
    "# simplification = \"glu\"\n",
    "\n",
    "plot_folder = f\"plots/iJO1366_{simplification}/\""
   ]
  },
  {
   "cell_type": "code",
   "execution_count": 9,
   "id": "9589152e",
   "metadata": {},
   "outputs": [],
   "source": [
    "# escher is installed with\n",
    "# conda install escher -c bioconda\n",
    "# in an empty environment and run in the jupyter notebook of the environment\n",
    "# as it is uses an old jupyter extention I could not get it running on jupyter-lab"
   ]
  },
  {
   "cell_type": "code",
   "execution_count": 10,
   "id": "f94c3176",
   "metadata": {},
   "outputs": [],
   "source": [
    "escher.rc['never_ask_before_quit'] = True"
   ]
  },
  {
   "cell_type": "code",
   "execution_count": 11,
   "id": "5b19a8a7",
   "metadata": {},
   "outputs": [],
   "source": [
    "with open(f\"{plot_folder}metabolite_data.pickle\", \"rb\") as f:\n",
    "    metabolite_data = pickle.load(f)\n",
    "    \n",
    "with open(f\"{plot_folder}reaction_data.pickle\", \"rb\") as f:\n",
    "    reaction_data = pickle.load(f)\n",
    "    \n",
    "with open(f\"{plot_folder}reaction_scale.pickle\", \"rb\") as f:\n",
    "    reaction_scale = pickle.load(f)"
   ]
  },
  {
   "cell_type": "code",
   "execution_count": 12,
   "id": "bb8d55fa",
   "metadata": {},
   "outputs": [
    {
     "data": {
      "application/vnd.jupyter.widget-view+json": {
       "model_id": "a58dee6473364bb3a713472bd67832f0",
       "version_major": 2,
       "version_minor": 0
      },
      "text/plain": [
       "Builder(metabolite_data={'10fthf_c': 4, '5drib_c': 8, '34hpp_c': 7, '5mthf_c': 9, '23dhdp_c': 2, '23dhmp_c': 2…"
      ]
     },
     "metadata": {},
     "output_type": "display_data"
    }
   ],
   "source": [
    "builder = escher.Builder(\n",
    "    map_json='models/iJO1366.Central metabolism.json',\n",
    "    model_json='models/iJO1366.json',\n",
    "    metabolite_data=metabolite_data,\n",
    "    reaction_data=reaction_data,\n",
    "    reaction_scale=reaction_scale,\n",
    "    metabolite_scale=reaction_scale,\n",
    "    reaction_styles=[\"color\"],\n",
    "    metabolite_styles=[\"color\"],\n",
    ")\n",
    "\n",
    "builder"
   ]
  },
  {
   "cell_type": "code",
   "execution_count": 13,
   "id": "3337d244",
   "metadata": {},
   "outputs": [],
   "source": [
    "builder.save_html(f'{plot_folder}escher_central_metabolism.html')"
   ]
  },
  {
   "cell_type": "code",
   "execution_count": 14,
   "id": "0074231b",
   "metadata": {},
   "outputs": [
    {
     "data": {
      "application/vnd.jupyter.widget-view+json": {
       "model_id": "8d6bd7ff9d1c4432aa5bd124ecf86290",
       "version_major": 2,
       "version_minor": 0
      },
      "text/plain": [
       "Builder(metabolite_data={'10fthf_c': 4, '5drib_c': 8, '34hpp_c': 7, '5mthf_c': 9, '23dhdp_c': 2, '23dhmp_c': 2…"
      ]
     },
     "metadata": {},
     "output_type": "display_data"
    }
   ],
   "source": [
    "builder = escher.Builder(\n",
    "    map_json='models/iJO1366.Fatty acid beta-oxidation.json',\n",
    "    model_json='models/iJO1366.json',\n",
    "    metabolite_data=metabolite_data,\n",
    "    reaction_data=reaction_data,\n",
    "    reaction_scale=reaction_scale,\n",
    "    metabolite_scale=reaction_scale,\n",
    "    reaction_styles=[\"color\"],\n",
    "    metabolite_styles=[\"color\"],\n",
    ")\n",
    "\n",
    "builder"
   ]
  },
  {
   "cell_type": "code",
   "execution_count": 15,
   "id": "aa646016",
   "metadata": {},
   "outputs": [],
   "source": [
    "builder.save_html(f'{plot_folder}escher_fatty_acid_beta_oxidation.html')"
   ]
  },
  {
   "cell_type": "code",
   "execution_count": 16,
   "id": "123b4867",
   "metadata": {},
   "outputs": [
    {
     "data": {
      "application/vnd.jupyter.widget-view+json": {
       "model_id": "d8bbae392ca545849dfc299f6bca905f",
       "version_major": 2,
       "version_minor": 0
      },
      "text/plain": [
       "Builder(metabolite_data={'10fthf_c': 4, '5drib_c': 8, '34hpp_c': 7, '5mthf_c': 9, '23dhdp_c': 2, '23dhmp_c': 2…"
      ]
     },
     "metadata": {},
     "output_type": "display_data"
    }
   ],
   "source": [
    "builder = escher.Builder(\n",
    "    map_json='models/iJO1366.Fatty acid biosynthesis (saturated).json',\n",
    "    model_json='models/iJO1366.json',\n",
    "    metabolite_data=metabolite_data,\n",
    "    reaction_data=reaction_data,\n",
    "    reaction_scale=reaction_scale,\n",
    "    metabolite_scale=reaction_scale,\n",
    "    reaction_styles=[\"color\"],\n",
    "    metabolite_styles=[\"color\"],\n",
    ")\n",
    "\n",
    "builder"
   ]
  },
  {
   "cell_type": "code",
   "execution_count": 17,
   "id": "55f93149",
   "metadata": {},
   "outputs": [],
   "source": [
    "builder.save_html(f'{plot_folder}escher_fatty_acid_biosynthesis.html')"
   ]
  },
  {
   "cell_type": "code",
   "execution_count": 18,
   "id": "c03050ff",
   "metadata": {},
   "outputs": [
    {
     "data": {
      "application/vnd.jupyter.widget-view+json": {
       "model_id": "5069f3f959d9489a93e303fd2214981a",
       "version_major": 2,
       "version_minor": 0
      },
      "text/plain": [
       "Builder(metabolite_data={'10fthf_c': 4, '5drib_c': 8, '34hpp_c': 7, '5mthf_c': 9, '23dhdp_c': 2, '23dhmp_c': 2…"
      ]
     },
     "metadata": {},
     "output_type": "display_data"
    }
   ],
   "source": [
    "builder = escher.Builder(\n",
    "    map_json='models/iJO1366.Nucleotide and histidine biosynthesis.json',\n",
    "    model_json='models/iJO1366.json',\n",
    "    metabolite_data=metabolite_data,\n",
    "    reaction_data=reaction_data,\n",
    "    reaction_scale=reaction_scale,\n",
    "    metabolite_scale=reaction_scale,\n",
    "    reaction_styles=[\"color\"],\n",
    "    metabolite_styles=[\"color\"],\n",
    ")\n",
    "\n",
    "builder"
   ]
  },
  {
   "cell_type": "code",
   "execution_count": 19,
   "id": "f30bf422",
   "metadata": {},
   "outputs": [],
   "source": [
    "builder.save_html(f'{plot_folder}escher_nucleotide_and_histidine_biosynthesis.html')"
   ]
  },
  {
   "cell_type": "code",
   "execution_count": 20,
   "id": "96b24959",
   "metadata": {},
   "outputs": [
    {
     "data": {
      "application/vnd.jupyter.widget-view+json": {
       "model_id": "15c14f842ff74ef5956fc98119911ef4",
       "version_major": 2,
       "version_minor": 0
      },
      "text/plain": [
       "Builder(metabolite_data={'10fthf_c': 4, '5drib_c': 8, '34hpp_c': 7, '5mthf_c': 9, '23dhdp_c': 2, '23dhmp_c': 2…"
      ]
     },
     "metadata": {},
     "output_type": "display_data"
    }
   ],
   "source": [
    "builder = escher.Builder(\n",
    "    map_json='models/iJO1366.Nucleotide metabolism.json',\n",
    "    model_json='models/iJO1366.json',\n",
    "    metabolite_data=metabolite_data,\n",
    "    reaction_data=reaction_data,\n",
    "    reaction_scale=reaction_scale,\n",
    "    metabolite_scale=reaction_scale,\n",
    "    reaction_styles=[\"color\"],\n",
    "    metabolite_styles=[\"color\"],\n",
    ")\n",
    "\n",
    "builder"
   ]
  },
  {
   "cell_type": "code",
   "execution_count": 21,
   "id": "e656a067",
   "metadata": {},
   "outputs": [],
   "source": [
    "builder.save_html(f'{plot_folder}escher_nucleotide_metobolism.html')"
   ]
  }
 ],
 "metadata": {
  "kernelspec": {
   "display_name": "Python 3 (ipykernel)",
   "language": "python",
   "name": "python3"
  },
  "language_info": {
   "codemirror_mode": {
    "name": "ipython",
    "version": 3
   },
   "file_extension": ".py",
   "mimetype": "text/x-python",
   "name": "python",
   "nbconvert_exporter": "python",
   "pygments_lexer": "ipython3",
   "version": "3.6.15"
  }
 },
 "nbformat": 4,
 "nbformat_minor": 5
}
