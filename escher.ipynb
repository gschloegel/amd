{
 "cells": [
  {
   "cell_type": "code",
   "execution_count": 1,
   "id": "0270c00d",
   "metadata": {},
   "outputs": [],
   "source": [
    "import cobra\n",
    "import escher\n",
    "import pickle\n",
    "import matplotlib"
   ]
  },
  {
   "cell_type": "code",
   "execution_count": 2,
   "id": "55d1c991",
   "metadata": {},
   "outputs": [],
   "source": [
    "# simplification = \"none\"\n",
    "# simplification = \"glu_FVA\"\n",
    "simplification = \"glu\"\n",
    "\n",
    "plot_folder = f\"plots/e_coli_core_{simplification}/\""
   ]
  },
  {
   "cell_type": "code",
   "execution_count": 3,
   "id": "9589152e",
   "metadata": {},
   "outputs": [],
   "source": [
    "# escher is installed with\n",
    "# conda install escher -c bioconda\n",
    "# in an empty environment and run in the jupyter notebook of the environment"
   ]
  },
  {
   "cell_type": "code",
   "execution_count": 4,
   "id": "f94c3176",
   "metadata": {},
   "outputs": [],
   "source": [
    "escher.rc['never_ask_before_quit'] = True"
   ]
  },
  {
   "cell_type": "code",
   "execution_count": 5,
   "id": "5b19a8a7",
   "metadata": {},
   "outputs": [],
   "source": [
    "with open(f\"{plot_folder}metabolite_data.pickle\", \"rb\") as f:\n",
    "    metabolite_data = pickle.load(f)\n",
    "    \n",
    "with open(f\"{plot_folder}reaction_data.pickle\", \"rb\") as f:\n",
    "    reaction_data = pickle.load(f)\n",
    "    \n",
    "with open(f\"{plot_folder}reaction_scale.pickle\", \"rb\") as f:\n",
    "    reaction_scale = pickle.load(f)"
   ]
  },
  {
   "cell_type": "code",
   "execution_count": 6,
   "id": "bb8d55fa",
   "metadata": {},
   "outputs": [],
   "source": [
    "builder = escher.Builder(\n",
    "    map_json='models/e_coli_core.Core_metabolism.json',\n",
    "    model_json='models/e_coli_core.json',\n",
    "    metabolite_data=metabolite_data,\n",
    "    reaction_data=reaction_data,\n",
    "    reaction_scale=reaction_scale,\n",
    "    metabolite_scale=reaction_scale,\n",
    "    reaction_styles=[\"color\"],\n",
    "    metabolite_styles=[\"color\"],\n",
    "    # show_gene_reaction_rules=True,\n",
    ")"
   ]
  },
  {
   "cell_type": "code",
   "execution_count": 7,
   "id": "ecfc594d",
   "metadata": {},
   "outputs": [
    {
     "data": {
      "application/vnd.jupyter.widget-view+json": {
       "model_id": "d05a3e3500304674b41c4a1dc3eeaffe",
       "version_major": 2,
       "version_minor": 0
      },
      "text/plain": [
       "Builder(metabolite_data={'glc__D_e': 2, '13dpg_c': 4, '2pg_c': 4, '3pg_c': 4, 'pep_c': 0, '6pgc_c': 2, '6pgl_c…"
      ]
     },
     "metadata": {},
     "output_type": "display_data"
    }
   ],
   "source": [
    "builder"
   ]
  },
  {
   "cell_type": "code",
   "execution_count": 8,
   "id": "123b4867",
   "metadata": {},
   "outputs": [],
   "source": [
    "builder.save_html(f\"{plot_folder}escher_map.html\")"
   ]
  }
 ],
 "metadata": {
  "kernelspec": {
   "display_name": "Python 3 (ipykernel)",
   "language": "python",
   "name": "python3"
  },
  "language_info": {
   "codemirror_mode": {
    "name": "ipython",
    "version": 3
   },
   "file_extension": ".py",
   "mimetype": "text/x-python",
   "name": "python",
   "nbconvert_exporter": "python",
   "pygments_lexer": "ipython3",
   "version": "3.6.15"
  }
 },
 "nbformat": 4,
 "nbformat_minor": 5
}
